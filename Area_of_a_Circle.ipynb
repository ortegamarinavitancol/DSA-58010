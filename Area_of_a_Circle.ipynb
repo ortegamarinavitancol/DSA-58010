{
  "nbformat": 4,
  "nbformat_minor": 0,
  "metadata": {
    "colab": {
      "name": "Area_of_a_Circle.ipynb",
      "provenance": [],
      "authorship_tag": "ABX9TyNPXAv9IYe2Jo3pW4PxhNDC",
      "include_colab_link": true
    },
    "kernelspec": {
      "name": "python3",
      "display_name": "Python 3"
    },
    "language_info": {
      "name": "python"
    }
  },
  "cells": [
    {
      "cell_type": "markdown",
      "metadata": {
        "id": "view-in-github",
        "colab_type": "text"
      },
      "source": [
        "<a href=\"https://colab.research.google.com/github/ortegamarinavitancol/DSA-58010/blob/main/Area_of_a_Circle.ipynb\" target=\"_parent\"><img src=\"https://colab.research.google.com/assets/colab-badge.svg\" alt=\"Open In Colab\"/></a>"
      ]
    },
    {
      "cell_type": "code",
      "execution_count": 40,
      "metadata": {
        "colab": {
          "base_uri": "https://localhost:8080/"
        },
        "id": "Cyf7h4EyQbX1",
        "outputId": "135d9594-733c-4dd1-aaef-73a9cfb92628"
      },
      "outputs": [
        {
          "output_type": "stream",
          "name": "stdout",
          "text": [
            "radius:2\n",
            "Area: 12.5664\n"
          ]
        }
      ],
      "source": [
        "#if given is radius\n",
        "\n",
        "r = int(input(\"radius:\"))\n",
        "area = 3.1416*r**2\n",
        "\n",
        "print (\"Area:\", area)"
      ]
    },
    {
      "cell_type": "code",
      "source": [
        "#if given is diameter\n",
        "d = int(input(\"diameter:\"))\n",
        "area = (3.1416*d**2)/4\n",
        "\n",
        "print (\"Area:\", area)\n"
      ],
      "metadata": {
        "colab": {
          "base_uri": "https://localhost:8080/"
        },
        "id": "RPENuAb-T_8g",
        "outputId": "14d2cf4c-1ff1-4d53-c29a-9a9c9ebf08fb"
      },
      "execution_count": 6,
      "outputs": [
        {
          "output_type": "stream",
          "name": "stdout",
          "text": [
            "diameter:4\n",
            "Area: 12.5664\n"
          ]
        }
      ]
    },
    {
      "cell_type": "markdown",
      "source": [
        "Combined"
      ],
      "metadata": {
        "id": "kzgzMVGDYVhn"
      }
    },
    {
      "cell_type": "code",
      "source": [
        "print(\"*Input 0 in radius if diameter is given\\n\")\n",
        "\n",
        "r = int(input(\"radius:\"))\n",
        "\n",
        "if r == 0:\n",
        "    d = int(input(\"diameter:\"))\n",
        "    area = (3.1416*d**2)/4\n",
        "else:\n",
        "  area = 3.1416*r**2\n",
        "\n",
        "print (\"Area:\", area)"
      ],
      "metadata": {
        "colab": {
          "base_uri": "https://localhost:8080/"
        },
        "id": "FCK3dOrkYW2g",
        "outputId": "3a77d5a6-c179-4ba8-8b9a-bc9d633cccc3"
      },
      "execution_count": 42,
      "outputs": [
        {
          "output_type": "stream",
          "name": "stdout",
          "text": [
            "*Input 0 in radius if diameter is given\n",
            "\n",
            "radius:0\n",
            "diameter:4\n",
            "Area: 12.5664\n"
          ]
        }
      ]
    }
  ]
}