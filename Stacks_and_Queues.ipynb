{
  "nbformat": 4,
  "nbformat_minor": 0,
  "metadata": {
    "colab": {
      "provenance": [],
      "authorship_tag": "ABX9TyPXgi6Q1LsfVUQThz3ZKk/J",
      "include_colab_link": true
    },
    "kernelspec": {
      "name": "python3",
      "display_name": "Python 3"
    },
    "language_info": {
      "name": "python"
    }
  },
  "cells": [
    {
      "cell_type": "markdown",
      "metadata": {
        "id": "view-in-github",
        "colab_type": "text"
      },
      "source": [
        "<a href=\"https://colab.research.google.com/github/ortegamarinavitancol/DSA-58010/blob/main/Stacks_and_Queues.ipynb\" target=\"_parent\"><img src=\"https://colab.research.google.com/assets/colab-badge.svg\" alt=\"Open In Colab\"/></a>"
      ]
    },
    {
      "cell_type": "code",
      "execution_count": null,
      "metadata": {
        "colab": {
          "base_uri": "https://localhost:8080/"
        },
        "id": "UtVZkIZnE6Su",
        "outputId": "3e690205-529a-42bb-c3f4-3ade28b5e8f8"
      },
      "outputs": [
        {
          "output_type": "stream",
          "name": "stdout",
          "text": [
            "Elements in Stack:\n",
            "['Mon', 'Tue', 'Wed', 'Thu']\n",
            "remove:\n",
            "Thu\n",
            "After removing thrusday:\n",
            "['Mon', 'Tue', 'Wed']\n",
            "remove:\n",
            "Wed\n",
            "After removing wednesday:\n",
            "['Mon', 'Tue']\n",
            "remove:\n",
            "Tue\n",
            "After removing tuesday:\n",
            "['Mon']\n"
          ]
        }
      ],
      "source": [
        "class Stack:\n",
        "   def __init__(self):\n",
        "      self.stack = []\n",
        "\n",
        "   def add(self, dataval):\n",
        "# Use list append method to add element\n",
        "      if dataval not in self.stack:\n",
        "         self.stack.append(dataval)\n",
        "         return True\n",
        "      else:\n",
        "         return False\n",
        "# Use list pop method to remove element\n",
        "   def remove(self):\n",
        "      if len(self.stack) <= 0:\n",
        "         return (\"No element in the Stack\")\n",
        "      else:.\n",
        "         return selfstack.pop()\n",
        "   def printList(self):\n",
        "     return self.stack\n",
        "\n",
        "\n",
        "AStack = Stack()\n",
        "AStack.add(\"Mon\")\n",
        "AStack.add(\"Tue\")\n",
        "AStack.add(\"Wed\")\n",
        "AStack.add(\"Thu\")\n",
        "print(\"Elements in Stack:\")\n",
        "print(AStack.printList())\n",
        "print(\"remove:\")\n",
        "print(AStack.remove())\n",
        "print(\"After removing thrusday:\")\n",
        "print(AStack.printList())\n",
        "print(\"remove:\")\n",
        "print(AStack.remove())\n",
        "print(\"After removing wednesday:\")\n",
        "print(AStack.printList())\n",
        "print(\"remove:\")\n",
        "print(AStack.remove())\n",
        "print(\"After removing tuesday:\")\n",
        "print(AStack.printList())\n"
      ]
    },
    {
      "cell_type": "code",
      "source": [
        "#Python program to demo stack using Linked List\n",
        "\n",
        "class Stack:\n",
        "   def __init__(self):\n",
        "      self.stack = []\n",
        "\n",
        "class Node:\n",
        "  def __init__(self,data):\n",
        "    self.data = data\n",
        "    self.next = None #initialize as null\n",
        "\n",
        "class LinkedList:\n",
        "  def __init__(self):\n",
        "    self.head = None #Initialize head as null\n",
        "  \n",
        "  def printList(self):\n",
        "    temp = self.head\n",
        "    while (temp != None):\n",
        "      print(temp.data)\n",
        "      temp = temp.next\n",
        "\n",
        "  def is_empty(self):\n",
        "    if self.head == None:\n",
        "      return True\n",
        "    else:\n",
        "      return False\n",
        "  \n",
        "  def pop(self):\n",
        "    if self.is_empty():\n",
        "      return None\n",
        "    else:\n",
        "      poppednode = fourth\n",
        "      return poppednode.data\n",
        "\n",
        "\n",
        "llist = LinkedList()\n",
        "llist.head = Node('Mon')\n",
        "second = Node ('Tue')\n",
        "third = Node ('Wed')\n",
        "fourth = Node ('Thu')\n",
        "\n",
        "llist.head.next = second\n",
        "second.next = third\n",
        "third.next = fourth\n",
        "\n",
        "llist.printList()\n",
        "llist.pop()\n",
        "\n"
      ],
      "metadata": {
        "colab": {
          "base_uri": "https://localhost:8080/",
          "height": 105
        },
        "id": "gyzEIg8iNNO9",
        "outputId": "da1cab5b-d761-49c4-f71b-8eb481efa693"
      },
      "execution_count": null,
      "outputs": [
        {
          "output_type": "stream",
          "name": "stdout",
          "text": [
            "Mon\n",
            "Tue\n",
            "Wed\n",
            "Thu\n"
          ]
        },
        {
          "output_type": "execute_result",
          "data": {
            "text/plain": [
              "'Thu'"
            ],
            "application/vnd.google.colaboratory.intrinsic+json": {
              "type": "string"
            }
          },
          "metadata": {},
          "execution_count": 2
        }
      ]
    },
    {
      "cell_type": "markdown",
      "source": [
        "Revised Code"
      ],
      "metadata": {
        "id": "Ol8To-e0XuYw"
      }
    },
    {
      "cell_type": "code",
      "source": [
        "class Node:\n",
        "     \n",
        "    # Class to create nodes of linked list\n",
        "    def __init__(self,data):\n",
        "        self.data = data\n",
        "        self.next = None\n",
        "     \n",
        "class LinkedList:\n",
        "     \n",
        "    # set the head to NULL\n",
        "    def __init__(self):\n",
        "        self.head = None\n",
        "     \n",
        "    # Checks if stack is empty\n",
        "    def isempty(self):\n",
        "        if self.head == None:\n",
        "            return True\n",
        "        else:\n",
        "            return False\n",
        "     \n",
        "     \n",
        "    # Remove element that is the current head\n",
        " \n",
        "    def pop(self):\n",
        "        if self.isempty():\n",
        "            return None\n",
        "        else:\n",
        "            poppednode = fourth\n",
        "            third.next = None\n",
        "        return poppednode.data\n",
        "\n",
        "     \n",
        "    # Print \n",
        "    def display(self):\n",
        "         \n",
        "        iternode = self.head\n",
        "        if self.isempty():\n",
        "            print(\"Stack Underflow\")\n",
        "         \n",
        "        else:\n",
        "            print(\"\\nPrinting stack elements:\") \n",
        "            while(iternode != None):\n",
        "                print(iternode.data,\" \",end = \" \")\n",
        "                iternode = iternode.next\n",
        "            return \n",
        "         \n",
        "# Driver code\n",
        " \n",
        "llist = LinkedList()\n",
        "llist.head = Node('Mon')\n",
        "second = Node ('Tue')\n",
        "third = Node ('Wed')\n",
        "fourth = Node ('Thu')\n",
        "\n",
        "llist.head.next = second\n",
        "second.next = third\n",
        "third.next = fourth\n",
        " \n",
        "# Display stack elements\n",
        "llist.display()\n",
        "\n",
        " \n",
        "# Delete top elements of stack\n",
        "print(\"\\nPop:\",llist.pop())\n",
        "\n",
        "\n",
        "\n",
        "# Display stack elements\n",
        "llist.display()"
      ],
      "metadata": {
        "id": "cS7gn4grXv5i",
        "outputId": "d50acee7-df30-4a3b-87ec-d550b4ce3896",
        "colab": {
          "base_uri": "https://localhost:8080/"
        }
      },
      "execution_count": 4,
      "outputs": [
        {
          "output_type": "stream",
          "name": "stdout",
          "text": [
            "\n",
            "Printing stack elements:\n",
            "Mon   Tue   Wed   Thu   \n",
            "Pop: Thu\n",
            "\n",
            "Printing stack elements:\n",
            "Mon   Tue   Wed   "
          ]
        }
      ]
    }
  ]
}