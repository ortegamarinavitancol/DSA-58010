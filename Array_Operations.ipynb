{
  "nbformat": 4,
  "nbformat_minor": 0,
  "metadata": {
    "colab": {
      "name": "Array_Operations.ipynb",
      "provenance": [],
      "authorship_tag": "ABX9TyMep2TUDg2HulTvQbWqXozH",
      "include_colab_link": true
    },
    "kernelspec": {
      "name": "python3",
      "display_name": "Python 3"
    },
    "language_info": {
      "name": "python"
    }
  },
  "cells": [
    {
      "cell_type": "markdown",
      "metadata": {
        "id": "view-in-github",
        "colab_type": "text"
      },
      "source": [
        "<a href=\"https://colab.research.google.com/github/ortegamarinavitancol/DSA-58010/blob/main/Array_Operations.ipynb\" target=\"_parent\"><img src=\"https://colab.research.google.com/assets/colab-badge.svg\" alt=\"Open In Colab\"/></a>"
      ]
    },
    {
      "cell_type": "code",
      "execution_count": 9,
      "metadata": {
        "colab": {
          "base_uri": "https://localhost:8080/"
        },
        "id": "UNTbGDae8Msu",
        "outputId": "f9432deb-7974-4ccc-be98-b93052b801ed"
      },
      "outputs": [
        {
          "output_type": "stream",
          "name": "stdout",
          "text": [
            "dog\n",
            "cat\n",
            "fish\n"
          ]
        }
      ],
      "source": [
        "#Create an array of elements pertaining to animals\n",
        "\n",
        "animals = [\"dog\",\"cat\",\"fish\"]\n",
        "for x in animals:\n",
        "  print(x)"
      ]
    },
    {
      "cell_type": "code",
      "source": [
        "animals = [\"dog\",\"cat\",\"fish\"]\n",
        "\n",
        "x = animals[0] #retrieve animal index 0\n",
        "x2 = animals[1]\n",
        "print(x)\n",
        "print(x2)"
      ],
      "metadata": {
        "colab": {
          "base_uri": "https://localhost:8080/"
        },
        "id": "Ekeup3Rs_c3D",
        "outputId": "ea33f889-d6b0-4794-a80d-368062060951"
      },
      "execution_count": 11,
      "outputs": [
        {
          "output_type": "stream",
          "name": "stdout",
          "text": [
            "dog\n",
            "cat\n"
          ]
        }
      ]
    },
    {
      "cell_type": "code",
      "source": [
        "#Inserting Array Elements\n",
        "animals = [\"dog\",\"cat\",\"fish\"]\n",
        "animals.append('monkey')\n",
        "print(animals)"
      ],
      "metadata": {
        "colab": {
          "base_uri": "https://localhost:8080/"
        },
        "id": "L-68vh30Aa6m",
        "outputId": "28c86757-063c-4432-ef80-d7522921b401"
      },
      "execution_count": 13,
      "outputs": [
        {
          "output_type": "stream",
          "name": "stdout",
          "text": [
            "['dog', 'cat', 'fish', 'monkey']\n"
          ]
        }
      ]
    },
    {
      "cell_type": "code",
      "source": [
        "#Modifying Array ELements\n",
        "\n",
        "animals = [\"dog\",\"cat\",\"fish\"]\n",
        "animals[2]=\"monkey\"\n",
        "print(animals)"
      ],
      "metadata": {
        "colab": {
          "base_uri": "https://localhost:8080/"
        },
        "id": "8n_ND7fu__LX",
        "outputId": "94739988-cd39-483c-fb97-9fcd293b439d"
      },
      "execution_count": 12,
      "outputs": [
        {
          "output_type": "stream",
          "name": "stdout",
          "text": [
            "['dog', 'cat', 'monkey']\n"
          ]
        }
      ]
    },
    {
      "cell_type": "code",
      "source": [
        "#Removing Array ELements\n",
        "animals = [\"dog\",\"cat\",\"fish\"]\n",
        "animals.pop(2)\n",
        "animals.pop(1)\n",
        "print(animals)"
      ],
      "metadata": {
        "colab": {
          "base_uri": "https://localhost:8080/"
        },
        "id": "9KxWfxHiBk9v",
        "outputId": "762d29c8-a95f-4ede-c4f5-fb25b500ff0b"
      },
      "execution_count": 15,
      "outputs": [
        {
          "output_type": "stream",
          "name": "stdout",
          "text": [
            "['dog']\n"
          ]
        }
      ]
    },
    {
      "cell_type": "code",
      "source": [
        "#Looping Array ELements\n",
        "animals = [\"dog\",\"cat\",\"fish\"]\n",
        "for x in animals:\n",
        "  print(x)\n",
        "  if x == \"cat\":\n",
        "    break"
      ],
      "metadata": {
        "colab": {
          "base_uri": "https://localhost:8080/"
        },
        "id": "4UmRHI9eCXZS",
        "outputId": "5a7015fd-1ade-4d54-8e81-992e7becec38"
      },
      "execution_count": 24,
      "outputs": [
        {
          "output_type": "stream",
          "name": "stdout",
          "text": [
            "dog\n",
            "cat\n"
          ]
        }
      ]
    },
    {
      "cell_type": "code",
      "source": [
        "#Length of Array\n",
        "animals = [\"dog\",\"cat\",\"fish\"]\n",
        "x = len(animals)\n",
        "print(x)"
      ],
      "metadata": {
        "colab": {
          "base_uri": "https://localhost:8080/"
        },
        "id": "W9AdOvc_EfiR",
        "outputId": "f7c0ce32-799a-4720-a310-72bdedcb676d"
      },
      "execution_count": 25,
      "outputs": [
        {
          "output_type": "stream",
          "name": "stdout",
          "text": [
            "3\n"
          ]
        }
      ]
    },
    {
      "cell_type": "code",
      "source": [
        "import numpy as np\n",
        "number = np.array([[1,2],[3,4]]) #2x2 matrix\n",
        "print(number)"
      ],
      "metadata": {
        "colab": {
          "base_uri": "https://localhost:8080/"
        },
        "id": "08UUuEyC-Ad_",
        "outputId": "5ed00197-d169-434a-bd0b-6a9d3b79ab99"
      },
      "execution_count": 7,
      "outputs": [
        {
          "output_type": "stream",
          "name": "stdout",
          "text": [
            "[[1 2]\n",
            " [3 4]]\n"
          ]
        }
      ]
    }
  ]
}