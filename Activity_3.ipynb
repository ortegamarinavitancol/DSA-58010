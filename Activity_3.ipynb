{
  "nbformat": 4,
  "nbformat_minor": 0,
  "metadata": {
    "colab": {
      "provenance": [],
      "authorship_tag": "ABX9TyNvdYwf3P5IC/pBhK5fCJOE",
      "include_colab_link": true
    },
    "kernelspec": {
      "name": "python3",
      "display_name": "Python 3"
    },
    "language_info": {
      "name": "python"
    }
  },
  "cells": [
    {
      "cell_type": "markdown",
      "metadata": {
        "id": "view-in-github",
        "colab_type": "text"
      },
      "source": [
        "<a href=\"https://colab.research.google.com/github/ortegamarinavitancol/DSA-58010/blob/main/Activity_3.ipynb\" target=\"_parent\"><img src=\"https://colab.research.google.com/assets/colab-badge.svg\" alt=\"Open In Colab\"/></a>"
      ]
    },
    {
      "cell_type": "code",
      "execution_count": 2,
      "metadata": {
        "colab": {
          "base_uri": "https://localhost:8080/"
        },
        "id": "eojhZtdLGjzd",
        "outputId": "441c6cfe-1a04-4e3e-b260-d7d62ba82696"
      },
      "outputs": [
        {
          "output_type": "stream",
          "name": "stdout",
          "text": [
            "Pushed Element: 1\n",
            "Pushed Element: 2\n",
            "Pushed Element: 3\n",
            "Pushed Element: 4\n",
            "Pushed Element: 5\n",
            "The elements in the stack are:['1', '2', '3', '4', '5']\n"
          ]
        }
      ],
      "source": [
        "# Stack implementation in python\n",
        "\n",
        "\n",
        "# Creating a stack\n",
        "\n",
        "def create_stack():\n",
        "\n",
        "    stack = []\n",
        "\n",
        "    return stack\n",
        "\n",
        "# Creating an empty stack\n",
        "\n",
        "def is_empty(stack):\n",
        "\n",
        "    return len(stack) == 0\n",
        "\n",
        "# Adding items into the stack\n",
        "\n",
        "def push(stack, item):\n",
        "\n",
        "    stack.append(item)\n",
        "\n",
        "    print(\"Pushed Element: \" + item)\n",
        "\n",
        "# Removing an element from the stack\n",
        "\n",
        "def pop(stack):\n",
        "\n",
        "    if (is_empty(stack)):\n",
        "\n",
        "        return \"The stack is empty\"\n",
        "\n",
        "    return stack.pop()\n",
        "\n",
        "stack = create_stack()\n",
        "\n",
        "push(stack, str(1))\n",
        "\n",
        "push(stack, str(2))\n",
        "\n",
        "push(stack, str(3))\n",
        "\n",
        "push(stack, str(4))\n",
        "\n",
        "push(stack, str(5))\n",
        "\n",
        "\n",
        "\n",
        "print(\"The elements in the stack are:\"+ str(stack))\n",
        "\n"
      ]
    },
    {
      "cell_type": "markdown",
      "source": [
        "##Revised Code"
      ],
      "metadata": {
        "id": "eWZH3ltUB8-0"
      }
    },
    {
      "cell_type": "code",
      "source": [
        "# Stack implementation in python\n",
        "\n",
        "\n",
        "# Creating a stack\n",
        "\n",
        "def create_stack():\n",
        "\n",
        "    stack = []\n",
        "\n",
        "    return stack\n",
        "\n",
        "# Creating an empty stack\n",
        "\n",
        "def is_empty(stack):\n",
        "\n",
        "    return len(stack) == 0\n",
        "\n",
        "# Adding items into the stack\n",
        "\n",
        "def push(stack, item):\n",
        "\n",
        "    stack.append(item)\n",
        "\n",
        "    print(\"Pushed Element: \" + item)\n",
        "\n",
        "# Removing an element from the stack\n",
        "\n",
        "def pop(stack):\n",
        "\n",
        "    if (is_empty(stack)):\n",
        "\n",
        "        return \"The stack is empty\"\n",
        "\n",
        "    return stack.pop()\n",
        "\n",
        "stack = create_stack()\n",
        "\n",
        "push(stack, str(1))\n",
        "\n",
        "push(stack, str(2))\n",
        "\n",
        "push(stack, str(3))\n",
        "\n",
        "push(stack, str(4))\n",
        "\n",
        "push(stack, str(5))\n",
        "\n",
        "\n",
        "\n",
        "print(\"The elements in the stack are:\"+ str(stack))\n",
        "\n",
        "#Determine the length of the stack\n",
        "print('\\nThe length of the stack:', len(stack))\n",
        "\n",
        "\n",
        "#Pop 3 elements from the top of the stack\n",
        "print(\"\\nThe popped elements are:\")\n",
        "print(stack.pop())\n",
        "print(stack.pop())\n",
        "print(stack.pop())\n",
        "\n",
        "\n",
        "print(\"\\nThe remaining elements in the stack are now:\"+ str(stack))"
      ],
      "metadata": {
        "colab": {
          "base_uri": "https://localhost:8080/"
        },
        "id": "Qyy-C16pB-1x",
        "outputId": "89935433-d583-4f8e-cf58-d26e4030a11b"
      },
      "execution_count": 1,
      "outputs": [
        {
          "output_type": "stream",
          "name": "stdout",
          "text": [
            "Pushed Element: 1\n",
            "Pushed Element: 2\n",
            "Pushed Element: 3\n",
            "Pushed Element: 4\n",
            "Pushed Element: 5\n",
            "The elements in the stack are:['1', '2', '3', '4', '5']\n",
            "\n",
            "The length of the stack: 5\n",
            "\n",
            "The popped elements are:\n",
            "5\n",
            "4\n",
            "3\n",
            "\n",
            "The remaining elements in the stack are now:['1', '2']\n"
          ]
        }
      ]
    }
  ]
}