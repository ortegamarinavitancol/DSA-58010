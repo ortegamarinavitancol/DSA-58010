{
  "nbformat": 4,
  "nbformat_minor": 0,
  "metadata": {
    "colab": {
      "name": "Practice_Problem.ipynb",
      "provenance": [],
      "authorship_tag": "ABX9TyNqO5r2347yLP3cjLReLse+",
      "include_colab_link": true
    },
    "kernelspec": {
      "name": "python3",
      "display_name": "Python 3"
    },
    "language_info": {
      "name": "python"
    }
  },
  "cells": [
    {
      "cell_type": "markdown",
      "metadata": {
        "id": "view-in-github",
        "colab_type": "text"
      },
      "source": [
        "<a href=\"https://colab.research.google.com/github/ortegamarinavitancol/DSA-58010/blob/main/Practice_Problem.ipynb\" target=\"_parent\"><img src=\"https://colab.research.google.com/assets/colab-badge.svg\" alt=\"Open In Colab\"/></a>"
      ]
    },
    {
      "cell_type": "code",
      "execution_count": 19,
      "metadata": {
        "colab": {
          "base_uri": "https://localhost:8080/"
        },
        "id": "fO5DynNtaDkm",
        "outputId": "12b5b56c-f26c-4c77-ea6b-226151b03e8c"
      },
      "outputs": [
        {
          "output_type": "stream",
          "name": "stdout",
          "text": [
            "Sum of even scores: 186\n"
          ]
        }
      ],
      "source": [
        "scores=[26,49,98,87,62,75]\n",
        "sum =0\n",
        "for x in scores:\n",
        "  if x %2==0:\n",
        "    sum += x\n",
        "print(\"Sum of even scores:\",sum)"
      ]
    }
  ]
}