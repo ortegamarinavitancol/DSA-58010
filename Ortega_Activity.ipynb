{
  "nbformat": 4,
  "nbformat_minor": 0,
  "metadata": {
    "colab": {
      "provenance": [],
      "authorship_tag": "ABX9TyPSnFzW+P8akcZC/Y7hmffW",
      "include_colab_link": true
    },
    "kernelspec": {
      "name": "python3",
      "display_name": "Python 3"
    },
    "language_info": {
      "name": "python"
    }
  },
  "cells": [
    {
      "cell_type": "markdown",
      "metadata": {
        "id": "view-in-github",
        "colab_type": "text"
      },
      "source": [
        "<a href=\"https://colab.research.google.com/github/ortegamarinavitancol/DSA-58010/blob/main/Ortega_Activity.ipynb\" target=\"_parent\"><img src=\"https://colab.research.google.com/assets/colab-badge.svg\" alt=\"Open In Colab\"/></a>"
      ]
    },
    {
      "cell_type": "markdown",
      "source": [
        "#Problem 1"
      ],
      "metadata": {
        "id": "HtedK5ieKFyB"
      }
    },
    {
      "cell_type": "code",
      "source": [
        "numbers = [1,2,3,4,5,6,7,8,9,10]\n",
        "sum = 0\n",
        "\n",
        "for x in numbers:\n",
        "  sum +=x\n",
        "print(numbers)\n",
        "print(\"the sum of the numbers\")\n",
        "print(numbers[0])\n",
        "print(numbers[1])\n",
        "print(numbers[2])\n",
        "print(numbers[3])\n",
        "print(numbers[4])\n",
        "print(numbers[5])\n",
        "print(numbers[6])\n",
        "print(numbers[7])\n",
        "print(numbers[8])\n",
        "print(numbers[9])\n",
        "print(\"is:\",sum)\n",
        "\n",
        "\n",
        "\n",
        "\n"
      ],
      "metadata": {
        "colab": {
          "base_uri": "https://localhost:8080/"
        },
        "id": "49pVlKc9KIVq",
        "outputId": "adf955b5-5036-437e-d9ee-23d7732507fe"
      },
      "execution_count": 54,
      "outputs": [
        {
          "output_type": "stream",
          "name": "stdout",
          "text": [
            "[1, 2, 3, 4, 5, 6, 7, 8, 9, 10]\n",
            "the sum of the numbers\n",
            "1\n",
            "2\n",
            "3\n",
            "4\n",
            "5\n",
            "6\n",
            "7\n",
            "8\n",
            "9\n",
            "10\n",
            "is: 55\n"
          ]
        }
      ]
    },
    {
      "cell_type": "markdown",
      "source": [
        "#Problem 2"
      ],
      "metadata": {
        "id": "aK-0AuKUMdBe"
      }
    },
    {
      "cell_type": "code",
      "source": [
        "numbers = [1,2,3,4,5,6,7,8,9,10]\n",
        "numbers.append(11)\n",
        "print(numbers)"
      ],
      "metadata": {
        "colab": {
          "base_uri": "https://localhost:8080/"
        },
        "id": "6faaPygLMetQ",
        "outputId": "41c94c24-3d06-4165-811a-24faaf134e74"
      },
      "execution_count": 4,
      "outputs": [
        {
          "output_type": "stream",
          "name": "stdout",
          "text": [
            "[1, 2, 3, 4, 5, 6, 7, 8, 9, 10, 11]\n"
          ]
        }
      ]
    },
    {
      "cell_type": "markdown",
      "source": [
        "#Problem 3"
      ],
      "metadata": {
        "id": "yQmJboGUNLCh"
      }
    },
    {
      "cell_type": "code",
      "source": [
        "numbers = [1,2,3,4,5,6,7,8,9,10]\n",
        "numbers.insert(1,1.1)\n",
        "print(numbers)"
      ],
      "metadata": {
        "colab": {
          "base_uri": "https://localhost:8080/"
        },
        "id": "LIVa9LaKNNCV",
        "outputId": "6be0e64b-9504-4898-894a-633ca6b7de07"
      },
      "execution_count": 6,
      "outputs": [
        {
          "output_type": "stream",
          "name": "stdout",
          "text": [
            "[1, 1.1, 2, 3, 4, 5, 6, 7, 8, 9, 10]\n"
          ]
        }
      ]
    },
    {
      "cell_type": "markdown",
      "source": [
        "#Problem 4"
      ],
      "metadata": {
        "id": "IC7Ghvy2N7Nl"
      }
    },
    {
      "cell_type": "code",
      "source": [
        "numbers = [5,4,3,2,1]\n",
        "numbers.reverse()\n",
        "print(numbers)"
      ],
      "metadata": {
        "colab": {
          "base_uri": "https://localhost:8080/"
        },
        "id": "NayGsWl4N80n",
        "outputId": "3969dcf6-48e8-4612-d4bc-80be99739248"
      },
      "execution_count": 7,
      "outputs": [
        {
          "output_type": "stream",
          "name": "stdout",
          "text": [
            "[1, 2, 3, 4, 5]\n"
          ]
        }
      ]
    },
    {
      "cell_type": "markdown",
      "source": [
        "#Problem 5"
      ],
      "metadata": {
        "id": "KG_eZjnyOURY"
      }
    },
    {
      "cell_type": "code",
      "source": [
        "numbers = [5,4,3,2,1]\n",
        "x = len(numbers)\n",
        "print(x)"
      ],
      "metadata": {
        "colab": {
          "base_uri": "https://localhost:8080/"
        },
        "id": "q3xqcnOGOW4w",
        "outputId": "ada91a9a-d7d8-4e51-e619-48f9f4c9fac7"
      },
      "execution_count": 8,
      "outputs": [
        {
          "output_type": "stream",
          "name": "stdout",
          "text": [
            "5\n"
          ]
        }
      ]
    }
  ]
}