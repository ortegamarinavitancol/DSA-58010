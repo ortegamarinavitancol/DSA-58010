{
  "nbformat": 4,
  "nbformat_minor": 0,
  "metadata": {
    "colab": {
      "provenance": [],
      "authorship_tag": "ABX9TyN6Ur6wm5g7rN2PePezE9OR",
      "include_colab_link": true
    },
    "kernelspec": {
      "name": "python3",
      "display_name": "Python 3"
    },
    "language_info": {
      "name": "python"
    }
  },
  "cells": [
    {
      "cell_type": "markdown",
      "metadata": {
        "id": "view-in-github",
        "colab_type": "text"
      },
      "source": [
        "<a href=\"https://colab.research.google.com/github/ortegamarinavitancol/DSA-58010/blob/main/Prelim_Exam.ipynb\" target=\"_parent\"><img src=\"https://colab.research.google.com/assets/colab-badge.svg\" alt=\"Open In Colab\"/></a>"
      ]
    },
    {
      "cell_type": "code",
      "execution_count": 5,
      "metadata": {
        "colab": {
          "base_uri": "https://localhost:8080/"
        },
        "id": "66N04vLvhmrE",
        "outputId": "58302183-361c-46a0-e86e-3ab6dcfb93e7"
      },
      "outputs": [
        {
          "output_type": "stream",
          "name": "stdout",
          "text": [
            "The numbers in the array: [1, 2, 3, 4, 5, 6, 7, 8, 9, 10]\n",
            "The number of even numbers in the array: 5\n"
          ]
        }
      ],
      "source": [
        "A = [1,2,3,4,5,6,7,8,9,10]\n",
        "count = 0\n",
        "\n",
        "for x in A:\n",
        "  if x %2==0:\n",
        "    count +=1\n",
        "\n",
        "print(\"The numbers in the array:\", A)\n",
        "print(\"The number of even numbers in the array:\", count)"
      ]
    }
  ]
}