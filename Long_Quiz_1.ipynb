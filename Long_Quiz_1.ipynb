{
  "nbformat": 4,
  "nbformat_minor": 0,
  "metadata": {
    "colab": {
      "provenance": [],
      "authorship_tag": "ABX9TyMl7b6Ldg3u7/eN3QxLHMhW",
      "include_colab_link": true
    },
    "kernelspec": {
      "name": "python3",
      "display_name": "Python 3"
    },
    "language_info": {
      "name": "python"
    }
  },
  "cells": [
    {
      "cell_type": "markdown",
      "metadata": {
        "id": "view-in-github",
        "colab_type": "text"
      },
      "source": [
        "<a href=\"https://colab.research.google.com/github/ortegamarinavitancol/DSA-58010/blob/main/Long_Quiz_1.ipynb\" target=\"_parent\"><img src=\"https://colab.research.google.com/assets/colab-badge.svg\" alt=\"Open In Colab\"/></a>"
      ]
    },
    {
      "cell_type": "markdown",
      "source": [
        "1) Choose either Array or Linked-List data structure\n",
        "\n",
        "2) Create a python program that appends each character of your full name and displays each character in reverse order (in Colab)\n",
        "\n"
      ],
      "metadata": {
        "id": "mAZfK3bgdo9-"
      }
    },
    {
      "cell_type": "code",
      "execution_count": 8,
      "metadata": {
        "colab": {
          "base_uri": "https://localhost:8080/"
        },
        "id": "SjiTT1eldlkD",
        "outputId": "15151fb8-bbc6-4885-df3b-e0bcba494251"
      },
      "outputs": [
        {
          "output_type": "stream",
          "name": "stdout",
          "text": [
            "My Name:\n",
            "M\n",
            "A\n",
            "R\n",
            "I\n",
            "N\n",
            "A\n",
            "O\n",
            "R\n",
            "T\n",
            "E\n",
            "G\n",
            "A\n",
            "My Name in REVERSE:\n",
            "A\n",
            "G\n",
            "E\n",
            "T\n",
            "R\n",
            "O\n",
            "A\n",
            "N\n",
            "I\n",
            "R\n",
            "A\n",
            "M\n"
          ]
        }
      ],
      "source": [
        "name = []\n",
        "\n",
        "name.append(\"M\")\n",
        "name.append(\"A\")\n",
        "name.append(\"R\")\n",
        "name.append(\"I\")\n",
        "name.append(\"N\")\n",
        "name.append(\"A\")\n",
        "name.append(\"O\")\n",
        "name.append(\"R\")\n",
        "name.append(\"T\")\n",
        "name.append(\"E\")\n",
        "name.append(\"G\")\n",
        "name.append(\"A\")\n",
        "\n",
        "print(\"My Name:\")\n",
        "print(*name, sep='\\n')\n",
        "\n",
        "print(\"My Name in REVERSE:\")\n",
        "name.reverse()\n",
        "print(*name, sep='\\n')"
      ]
    }
  ]
}